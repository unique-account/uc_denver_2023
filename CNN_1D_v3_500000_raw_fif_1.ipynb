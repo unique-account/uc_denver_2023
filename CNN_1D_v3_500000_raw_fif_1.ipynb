{
  "cells": [
    {
      "cell_type": "markdown",
      "metadata": {
        "id": "9Pn9ZO7LRbm_"
      },
      "source": [
        "*4*/13/2023:\n",
        "Experiment\n",
        "adding recall, precision, accuracy, f1 score, tn, tp, fn, fp\n",
        "\n",
        "\n",
        "\n",
        "\n",
        "\n",
        "4/1/2023: Change Label to Subject and Patient\n",
        "FP1 + CZ signals"
      ],
      "id": "9Pn9ZO7LRbm_"
    },
    {
      "cell_type": "code",
      "execution_count": 47,
      "metadata": {
        "colab": {
          "base_uri": "https://localhost:8080/"
        },
        "id": "N4H-559M-b1b",
        "outputId": "a911b8f1-43d6-4279-ad25-aa04d3ab1df1"
      },
      "outputs": [
        {
          "output_type": "stream",
          "name": "stdout",
          "text": [
            "Looking in indexes: https://pypi.org/simple, https://us-python.pkg.dev/colab-wheels/public/simple/\n",
            "Requirement already satisfied: mne in /usr/local/lib/python3.10/dist-packages (1.3.1)\n",
            "Requirement already satisfied: numpy>=1.15.4 in /usr/local/lib/python3.10/dist-packages (from mne) (1.22.4)\n",
            "Requirement already satisfied: scipy>=1.1.0 in /usr/local/lib/python3.10/dist-packages (from mne) (1.10.1)\n",
            "Requirement already satisfied: matplotlib in /usr/local/lib/python3.10/dist-packages (from mne) (3.7.1)\n",
            "Requirement already satisfied: tqdm in /usr/local/lib/python3.10/dist-packages (from mne) (4.65.0)\n",
            "Requirement already satisfied: pooch>=1.5 in /usr/local/lib/python3.10/dist-packages (from mne) (1.6.0)\n",
            "Requirement already satisfied: decorator in /usr/local/lib/python3.10/dist-packages (from mne) (4.4.2)\n",
            "Requirement already satisfied: packaging in /usr/local/lib/python3.10/dist-packages (from mne) (23.1)\n",
            "Requirement already satisfied: jinja2 in /usr/local/lib/python3.10/dist-packages (from mne) (3.1.2)\n",
            "Requirement already satisfied: appdirs>=1.3.0 in /usr/local/lib/python3.10/dist-packages (from pooch>=1.5->mne) (1.4.4)\n",
            "Requirement already satisfied: requests>=2.19.0 in /usr/local/lib/python3.10/dist-packages (from pooch>=1.5->mne) (2.27.1)\n",
            "Requirement already satisfied: MarkupSafe>=2.0 in /usr/local/lib/python3.10/dist-packages (from jinja2->mne) (2.1.2)\n",
            "Requirement already satisfied: contourpy>=1.0.1 in /usr/local/lib/python3.10/dist-packages (from matplotlib->mne) (1.0.7)\n",
            "Requirement already satisfied: cycler>=0.10 in /usr/local/lib/python3.10/dist-packages (from matplotlib->mne) (0.11.0)\n",
            "Requirement already satisfied: fonttools>=4.22.0 in /usr/local/lib/python3.10/dist-packages (from matplotlib->mne) (4.39.3)\n",
            "Requirement already satisfied: kiwisolver>=1.0.1 in /usr/local/lib/python3.10/dist-packages (from matplotlib->mne) (1.4.4)\n",
            "Requirement already satisfied: pillow>=6.2.0 in /usr/local/lib/python3.10/dist-packages (from matplotlib->mne) (8.4.0)\n",
            "Requirement already satisfied: pyparsing>=2.3.1 in /usr/local/lib/python3.10/dist-packages (from matplotlib->mne) (3.0.9)\n",
            "Requirement already satisfied: python-dateutil>=2.7 in /usr/local/lib/python3.10/dist-packages (from matplotlib->mne) (2.8.2)\n",
            "Requirement already satisfied: six>=1.5 in /usr/local/lib/python3.10/dist-packages (from python-dateutil>=2.7->matplotlib->mne) (1.16.0)\n",
            "Requirement already satisfied: urllib3<1.27,>=1.21.1 in /usr/local/lib/python3.10/dist-packages (from requests>=2.19.0->pooch>=1.5->mne) (1.26.15)\n",
            "Requirement already satisfied: certifi>=2017.4.17 in /usr/local/lib/python3.10/dist-packages (from requests>=2.19.0->pooch>=1.5->mne) (2022.12.7)\n",
            "Requirement already satisfied: charset-normalizer~=2.0.0 in /usr/local/lib/python3.10/dist-packages (from requests>=2.19.0->pooch>=1.5->mne) (2.0.12)\n",
            "Requirement already satisfied: idna<4,>=2.5 in /usr/local/lib/python3.10/dist-packages (from requests>=2.19.0->pooch>=1.5->mne) (3.4)\n"
          ]
        }
      ],
      "source": [
        "pip install mne"
      ],
      "id": "N4H-559M-b1b"
    },
    {
      "cell_type": "code",
      "execution_count": 48,
      "metadata": {
        "id": "e80c25d2"
      },
      "outputs": [],
      "source": [
        "import os\n",
        "import numpy as np\n",
        "import mne\n",
        "import csv\n",
        "import matplotlib.pyplot as plt"
      ],
      "id": "e80c25d2"
    },
    {
      "cell_type": "code",
      "execution_count": 49,
      "metadata": {
        "id": "PDZ3CWHvlScv"
      },
      "outputs": [],
      "source": [
        "from sklearn.model_selection import train_test_split\n",
        "from keras.layers import Conv1D, MaxPooling1D, Flatten, Dense\n",
        "from keras.models import Sequential\n",
        "from keras.layers import Dense, SpatialDropout1D\n",
        "from keras.callbacks import ModelCheckpoint\n",
        "from sklearn.metrics import accuracy_score, precision_score, recall_score, f1_score\n",
        "from sklearn.metrics import confusion_matrix\n",
        "from keras.layers import Dropout\n",
        "\n",
        "\n",
        "# Set random seed for reproducibility\n",
        "np.random.seed(42)"
      ],
      "id": "PDZ3CWHvlScv"
    },
    {
      "cell_type": "code",
      "execution_count": 50,
      "metadata": {
        "id": "xiLRwxor-Xrq",
        "colab": {
          "base_uri": "https://localhost:8080/"
        },
        "outputId": "21acca3a-4a90-4d29-ed62-dc276ca02218"
      },
      "outputs": [
        {
          "output_type": "stream",
          "name": "stdout",
          "text": [
            "Drive already mounted at /content/drive; to attempt to forcibly remount, call drive.mount(\"/content/drive\", force_remount=True).\n"
          ]
        }
      ],
      "source": [
        "from google.colab import drive\n",
        "drive.mount('/content/drive')"
      ],
      "id": "xiLRwxor-Xrq"
    },
    {
      "cell_type": "code",
      "execution_count": 51,
      "metadata": {
        "id": "08abab2b"
      },
      "outputs": [],
      "source": [
        "#path='/content/drive/MyDrive/Colab Notebooks/DL/'\n",
        "path=r'/content/drive/MyDrive/Colab Notebooks/DL/ResampledData/'"
      ],
      "id": "08abab2b"
    },
    {
      "cell_type": "markdown",
      "metadata": {
        "id": "-6PQy2rNSaLN"
      },
      "source": [
        "length of the signal = observation time (minutes)* 60 (second/minutes) * sampling frequency (1/minutes)\n",
        "\n",
        "end time = observation time (minutes) * 60 (second/minutes)\n"
      ],
      "id": "-6PQy2rNSaLN"
    },
    {
      "cell_type": "markdown",
      "metadata": {
        "id": "8tM8nxX3TlB7"
      },
      "source": [
        "\n",
        "\n",
        "---\n",
        "\n"
      ],
      "id": "8tM8nxX3TlB7"
    },
    {
      "cell_type": "code",
      "execution_count": 52,
      "metadata": {
        "id": "XKvGG5OHHq9j"
      },
      "outputs": [],
      "source": [
        "#observation_time=60 #in minutes\n",
        "#sampling_frequency=200 #in Hertz or per second\n",
        "number_of_data=500000\n",
        "start_time=0\n",
        "#nd_time=(observation_time*60)\n",
        "#print(end_time)"
      ],
      "id": "XKvGG5OHHq9j"
    },
    {
      "cell_type": "markdown",
      "metadata": {
        "id": "N5knmSqlSj2W"
      },
      "source": [
        "We have valid data with total = 46\n",
        "\n",
        "Create all zeros numpy arrays for FP and CZ signals"
      ],
      "id": "N5knmSqlSj2W"
    },
    {
      "cell_type": "markdown",
      "metadata": {
        "id": "lSUUQTg9R3Od"
      },
      "source": [],
      "id": "lSUUQTg9R3Od"
    },
    {
      "cell_type": "code",
      "execution_count": 53,
      "metadata": {
        "id": "TcOv2gyfAjEI"
      },
      "outputs": [],
      "source": [
        "number_samples=46\n",
        "signal_length=number_of_data\n",
        "fp_cz_signals_o= np.zeros((number_samples, signal_length))"
      ],
      "id": "TcOv2gyfAjEI"
    },
    {
      "cell_type": "markdown",
      "metadata": {
        "id": "PruCXgroSy7X"
      },
      "source": [
        "Read only FP1-A2 and CZ-A1:\n",
        "\n",
        "   (20 subjects)\n",
        "\n",
        "   (26 subjects) - Patient2 excluded, it does not have CZ signal\n",
        "\n",
        "\n",
        "\n",
        "Apply bandpass filter:\n",
        "\n",
        "  l_freq = 1  # low cutoff frequency in Hz\n",
        "\n",
        "  h_freq = 45  # high cutoff frequency in Hz\n",
        "\n",
        "\n",
        "Preprocessing: Scale the data to have zero mean and unit variance\n",
        "\n",
        "\n",
        "\n"
      ],
      "id": "PruCXgroSy7X"
    },
    {
      "cell_type": "code",
      "execution_count": 54,
      "metadata": {
        "id": "792edb0e"
      },
      "outputs": [],
      "source": [
        "file_name=[\n",
        "                '/subject1_20_raw.fif','/subject2_20_raw.fif',\n",
        "                '/subject3_20_raw.fif',\n",
        "                '/subject4_20_raw.fif','/subject5_20_raw.fif',\n",
        "                '/subject6_20_raw.fif','/subject7_20_raw.fif',\n",
        "                '/subject8_20_raw.fif',\n",
        "                '/subject9_20_raw.fif','/subject10_20_raw.fif',\n",
        "                '/subject11_20_raw.fif','/subject12_20_raw.fif',\n",
        "                '/subject13_20_raw.fif',\n",
        "                '/subject14_20_raw.fif','/subject15_20_raw.fif',\n",
        "                '/subject16_20_raw.fif','/subject17_20_raw.fif',\n",
        "                '/subject18_20_raw.fif',\n",
        "                '/subject19_20_raw.fif','/subject20_20_raw.fif',\n",
        "                '/patient1_20_raw.fif',\n",
        "                '/patient3_20_raw.fif',\n",
        "                '/patient4_20_raw.fif','/patient5_20_raw.fif',\n",
        "                '/patient6_20_raw.fif','/patient7_20_raw.fif',\n",
        "                '/patient8_20_raw.fif',\n",
        "                '/patient9_20_raw.fif','/patient10_20_raw.fif',\n",
        "                '/patient11_20_raw.fif','/patient12_20_raw.fif',\n",
        "                '/patient13_20_raw.fif',\n",
        "                '/patient14_20_raw.fif','/patient15_20_raw.fif',\n",
        "                '/patient16_20_raw.fif','/patient17_20_raw.fif',\n",
        "                '/patient18_20_raw.fif',\n",
        "                '/patient19_20_raw.fif','/patient20_20_raw.fif',\n",
        "                '/patient21_20_raw.fif','/patient22_20_raw.fif',\n",
        "                '/patient23_20_raw.fif',\n",
        "                '/patient24_20_raw.fif','/patient25_20_raw.fif',\n",
        "                '/patient26_20_raw.fif','/patient27_20_raw.fif',\n",
        "                ]\n",
        "channel_names = ['FP1-A2', 'CZ-A1']  # Channels are needed for this analysis\n",
        "l_freq = 1  # low cutoff frequency in Hz\n",
        "h_freq = 45  # high cutoff frequency in Hz\n",
        "filter_length = 'auto'  # automatically calculate the filter length\n",
        "\n",
        "for index in range(len(file_name)):\n",
        "    #Read only FP1-A2 and CZ-A1\n",
        "    raw = mne.io.read_raw_fif(path+file_name[index],preload=True,verbose=False)  # include=channel_names (only 'FP1-A2', 'CZ-A1')\n",
        "    \n",
        "    #Consider data length of the observation time from the beginning  \n",
        "    #raw_filtered_cropped = raw.crop(tmin=start_time, tmax=end_time,include_tmax=False,verbose=False)\n",
        "    raw_data=raw.get_data()\n",
        "    channels = raw.ch_names\n",
        "    #print(channels)\n",
        "    b='FP1-A2'\n",
        "    c='CZ-A1'\n",
        "    Index_FP1_A2=channels.index(b)\n",
        "    Index_CZ_A1=channels.index(c)\n",
        "    #Read the data into fp_signals and cz-signals    \n",
        "    fp_cz_signals_o[index] = raw_data[Index_FP1_A2]+raw_data[Index_CZ_A1]\n",
        "#fp_cz_signals=(fp_cz_signals - np.mean(fp_cz_signals)) / np.std(fp_cz_signals)\n",
        "\n",
        "#Create label for Sex: Woman and Man\n",
        "labels=np.array((1,1,1,1,1,1,1,1,1,1,1,1,1,1,1,1,0,0,0,0,\n",
        "                 0,1,1,0,1,0,0,1,1,0,0,0,0,0,1,0,1,1,0,0,0,0,0,1,0,1))  #Sex: 1-woman, 0-man\n",
        "\n",
        "#labels=np.array((1,1,1,1,1,1,1,1,1,1,1,1,1,1,1,1,1,1,1,1,\n",
        "#                 0,0,0,0,0,0,0,0,0,0,0,0,0,0,0,0,0,0,0,0,0,0,0,0,0,0))  # 1-Subject, 0-Patient\n",
        "\n",
        "# Create label for Age:\n",
        "#labels2=np.array((1,1,1,1,1,1,1,1,1,1,1,1,1,1,1,1,0,0,0,0,\n",
        "#                 0,1,1,0,1,0,0,1,1,0,0,0,0,0,1,0,1,1,0,0,0,0,0,1,0,1))  #Age\n",
        "    "
      ],
      "id": "792edb0e"
    },
    {
      "cell_type": "code",
      "execution_count": 55,
      "metadata": {
        "id": "QximKRNmUnCL"
      },
      "outputs": [],
      "source": [
        "# Reshape input data to include a third dimension of size 1\n",
        "fp_cz_signals=fp_cz_signals_o.reshape(fp_cz_signals_o.shape[0],fp_cz_signals_o.shape[1],1)"
      ],
      "id": "QximKRNmUnCL"
    },
    {
      "cell_type": "code",
      "execution_count": 56,
      "metadata": {
        "id": "RxKbSRS2JDQV"
      },
      "outputs": [],
      "source": [
        "np.random.seed(42)"
      ],
      "id": "RxKbSRS2JDQV"
    },
    {
      "cell_type": "code",
      "execution_count": 57,
      "metadata": {
        "id": "NNXKmugFU1Rs"
      },
      "outputs": [],
      "source": [
        "## Split the data into training and testing datasets for each electrodes (f:FP1-A2 and c:CZ-A1)\n",
        "#Xfc_train, Xfc_test, yfc_train, yfc_test = train_test_split(fp_cz_signals, labels, test_size=0.2, random_state=42)\n"
      ],
      "id": "NNXKmugFU1Rs"
    },
    {
      "cell_type": "code",
      "source": [
        "Xfc_train, Xfc_test, yfc_train, yfc_test = train_test_split(fp_cz_signals, labels, test_size=0.20, random_state=1)\n",
        "\n",
        "#Xfc_train, Xfc_val, yfc_train, yfc_val = train_test_split(Xfc_train, yfc_train, test_size=0.25, random_state=1) # 0.25 x 0.8 = 0.2\n"
      ],
      "metadata": {
        "id": "S7cPthq32j60"
      },
      "id": "S7cPthq32j60",
      "execution_count": 58,
      "outputs": []
    },
    {
      "cell_type": "code",
      "execution_count": 59,
      "metadata": {
        "id": "Jg1zqNaIx4fc"
      },
      "outputs": [],
      "source": [
        "Xfc_train=(Xfc_train - np.mean(Xfc_train)) / np.std(Xfc_train)\n",
        "#Xfc_val=(Xfc_val - np.mean(Xfc_train)) / np.std(Xfc_train)\n",
        "Xfc_test=(Xfc_test - np.mean(Xfc_train)) / np.std(Xfc_train)"
      ],
      "id": "Jg1zqNaIx4fc"
    },
    {
      "cell_type": "code",
      "execution_count": 60,
      "metadata": {
        "id": "ffoUlIoNU9ot"
      },
      "outputs": [],
      "source": [
        "# Create a sequential model with a 1D convolutional layer\n",
        "model = Sequential()\n",
        "model.add(Conv1D(filters=32, kernel_size=3, activation='relu', input_shape=(signal_length, 1)))\n",
        "model.add(MaxPooling1D(pool_size=2))\n",
        "\n",
        "model.add(Dropout(0.2))\n",
        "model.add(Dense(32, activation='relu'))\n",
        "model.add(Dropout(0.2))\n",
        "\n",
        "model.add(Conv1D(filters=32, kernel_size=3, activation='relu'))\n",
        "model.add(MaxPooling1D(pool_size=2))\n",
        "\n",
        "model.add(Flatten())\n",
        "model.add(Dense(units=32, activation='relu'))\n",
        "model.add(Dense(units=1, activation='sigmoid'))\n",
        "\n",
        "# Compile the model\n",
        "model.compile(loss='binary_crossentropy', optimizer='adam', metrics=['accuracy'])"
      ],
      "id": "ffoUlIoNU9ot"
    },
    {
      "cell_type": "code",
      "execution_count": 61,
      "metadata": {
        "id": "DhIaGzxewkJd",
        "colab": {
          "base_uri": "https://localhost:8080/"
        },
        "outputId": "ad06f6f1-098b-4cb2-b6b5-c001b4c1f99f"
      },
      "outputs": [
        {
          "output_type": "stream",
          "name": "stdout",
          "text": [
            "Epoch 1/4\n",
            "1/1 [==============================] - 21s 21s/step - loss: 0.6967 - accuracy: 0.4722\n",
            "Epoch 2/4\n",
            "1/1 [==============================] - 20s 20s/step - loss: 56.8831 - accuracy: 0.5278\n",
            "Epoch 3/4\n",
            "1/1 [==============================] - 21s 21s/step - loss: 111.9330 - accuracy: 0.4722\n",
            "Epoch 4/4\n",
            "1/1 [==============================] - 29s 29s/step - loss: 54.5605 - accuracy: 0.4722\n",
            "1/1 [==============================] - 1s 1s/step\n",
            "F1 score: 75.00%\n",
            "Accuracy: 60.00%\n",
            "Precision: 66.67%\n",
            "Recall: 85.71%\n",
            "F1 score: 75.00%\n"
          ]
        }
      ],
      "source": [
        "# Train the model for c:FP1-A2+CZ1-A1\n",
        "#model.fit(X_train, y_train, epochs=10, batch_size=32)\n",
        "\n",
        "#model.fit(Xfc_train, yfc_train, epochs=6, batch_size=32)\n",
        "model.fit(Xfc_train, yfc_train, epochs=4, batch_size=64)\n",
        "\n",
        "# Evaluate the model\n",
        "#loss, accuracy = model.evaluate(X_test, y_test)\n",
        "#loss, accuracy=model.evaluate(Xfc_val)\n",
        "\n",
        "#print('Test Loss:', loss)\n",
        "#print('Test Accuracy:', accuracy)\n",
        "\n",
        "# Make predictions on new data\n",
        "#y_pred = model.predict(X_test)\n",
        "#y_pred = model.predict(Xfc_val)\n",
        "#y_pred=np.ceil(y_pred)\n",
        "#f1 = f1_score(yfc_val, y_pred)\n",
        "#print(\"F1 score: {:.2f}%\".format(f1*100))\n",
        "\n",
        "y_pred=model.predict(Xfc_test)\n",
        "y_pred=np.ceil(y_pred)\n",
        "f1 = f1_score(yfc_test, y_pred)\n",
        "\n",
        "#val_acc_val = accuracy_score(yfc_val, y_pred)\n",
        "#print(val_acc_val)\n",
        "print(\"F1 score: {:.2f}%\".format(f1*100))\n",
        "\n",
        "y_true=yfc_test\n",
        "accuracy = accuracy_score(y_true, y_pred)\n",
        "precision = precision_score(y_true, y_pred)#, average='macro')\n",
        "recall = recall_score(y_true, y_pred)#, average='macro')\n",
        "f1 = f1_score(y_true, y_pred)#, average='macro')\n",
        "\n",
        "# Print the results\n",
        "print(\"Accuracy: {:.2f}%\".format(accuracy*100))\n",
        "print(\"Precision: {:.2f}%\".format(precision*100))\n",
        "print(\"Recall: {:.2f}%\".format(recall*100))\n",
        "print(\"F1 score: {:.2f}%\".format(f1*100))\n",
        "\n"
      ],
      "id": "DhIaGzxewkJd"
    },
    {
      "cell_type": "code",
      "source": [
        "# Create a sequential model with a 1D convolutional layer\n",
        "model = Sequential()\n",
        "\n",
        "model.add(Conv1D(filters=32, kernel_size=3, activation='relu', input_shape=(signal_length, 1)))\n",
        "model.add(MaxPooling1D(pool_size=2))\n",
        "\n",
        "model.add(Conv1D(filters=32, kernel_size=3, activation='relu'))\n",
        "model.add(MaxPooling1D(pool_size=2))\n",
        "\n",
        "model.add(Flatten())\n",
        "model.add(Dense(units=32, activation='relu'))\n",
        "model.add(Dropout(0.2))\n",
        "model.add(Dense(units=1, activation='sigmoid'))\n",
        "\n",
        "\n",
        "\n",
        "# Compile the model\n",
        "model.compile(loss='binary_crossentropy', optimizer='adam', metrics=['accuracy'])"
      ],
      "metadata": {
        "id": "4TCSWIU1EqQG"
      },
      "id": "4TCSWIU1EqQG",
      "execution_count": 62,
      "outputs": []
    },
    {
      "cell_type": "code",
      "source": [
        "# Train the model for c:FP1-A2+CZ1-A1\n",
        "#model.fit(X_train, y_train, epochs=10, batch_size=32)\n",
        "\n",
        "#model.fit(Xfc_train, yfc_train, epochs=6, batch_size=32)\n",
        "model.fit(Xfc_train, yfc_train, epochs=5, batch_size=64)\n",
        "\n",
        "# Evaluate the model\n",
        "#loss, accuracy = model.evaluate(X_test, y_test)\n",
        "#loss, accuracy=model.evaluate(Xfc_val)\n",
        "\n",
        "#print('Test Loss:', loss)\n",
        "#print('Test Accuracy:', accuracy)\n",
        "\n",
        "# Make predictions on new data\n",
        "#y_pred = model.predict(X_test)\n",
        "#y_pred = model.predict(Xfc_val)\n",
        "#y_pred=np.ceil(y_pred)\n",
        "#f1 = f1_score(yfc_val, y_pred)\n",
        "#print(\"F1 score: {:.2f}%\".format(f1*100))\n",
        "\n",
        "y_pred=model.predict(Xfc_test)\n",
        "y_pred=np.ceil(y_pred)\n",
        "f1 = f1_score(yfc_test, y_pred)\n",
        "print(\"F1 score: {:.2f}%\".format(f1*100))\n",
        "\n",
        "\n",
        "\n",
        "y_true=yfc_test\n",
        "accuracy = accuracy_score(y_true, y_pred)\n",
        "precision = precision_score(y_true, y_pred)#, average='macro')\n",
        "recall = recall_score(y_true, y_pred)#, average='macro')\n",
        "f1 = f1_score(y_true, y_pred)#, average='macro')\n",
        "\n",
        "# Print the results\n",
        "print(\"Accuracy: {:.2f}%\".format(accuracy*100))\n",
        "print(\"Precision: {:.2f}%\".format(precision*100))\n",
        "print(\"Recall: {:.2f}%\".format(recall*100))\n",
        "print(\"F1 score: {:.2f}%\".format(f1*100))\n",
        "\n"
      ],
      "metadata": {
        "colab": {
          "base_uri": "https://localhost:8080/"
        },
        "id": "RiNrI92H8R2r",
        "outputId": "becb3432-6a5f-41ea-9869-d11d03294ef3"
      },
      "id": "RiNrI92H8R2r",
      "execution_count": 63,
      "outputs": [
        {
          "output_type": "stream",
          "name": "stdout",
          "text": [
            "Epoch 1/5\n",
            "1/1 [==============================] - 15s 15s/step - loss: 0.6739 - accuracy: 0.6111\n",
            "Epoch 2/5\n",
            "1/1 [==============================] - 13s 13s/step - loss: 7.2154 - accuracy: 0.8056\n",
            "Epoch 3/5\n",
            "1/1 [==============================] - 13s 13s/step - loss: 33.5579 - accuracy: 0.7222\n",
            "Epoch 4/5\n",
            "1/1 [==============================] - 13s 13s/step - loss: 68.8089 - accuracy: 0.6389\n",
            "Epoch 5/5\n",
            "1/1 [==============================] - 13s 13s/step - loss: 12.5251 - accuracy: 0.8056\n",
            "1/1 [==============================] - 1s 1000ms/step\n",
            "F1 score: 44.44%\n",
            "Accuracy: 50.00%\n",
            "Precision: 100.00%\n",
            "Recall: 28.57%\n",
            "F1 score: 44.44%\n"
          ]
        }
      ]
    },
    {
      "cell_type": "code",
      "source": [
        "# Create a sequential model with a 1D convolutional layer\n",
        "model = Sequential()\n",
        "\n",
        "model.add(Conv1D(filters=32, kernel_size=3, activation='relu', input_shape=(signal_length, 1)))\n",
        "model.add(MaxPooling1D(pool_size=2))\n",
        "\n",
        "model.add(Conv1D(filters=32, kernel_size=3, activation='relu'))\n",
        "model.add(MaxPooling1D(pool_size=2))\n",
        "\n",
        "model.add(Conv1D(filters=32, kernel_size=3, activation='relu'))\n",
        "model.add(MaxPooling1D(pool_size=2))\n",
        "\n",
        "\n",
        "model.add(Flatten())\n",
        "model.add(Dense(units=32, activation='relu'))\n",
        "model.add(Dropout(0.2))\n",
        "model.add(Dense(units=1, activation='sigmoid'))\n",
        "\n",
        "\n",
        "\n",
        "# Compile the model\n",
        "model.compile(loss='binary_crossentropy', optimizer='adam', metrics=['accuracy'])\n",
        "\n"
      ],
      "metadata": {
        "id": "smlHc15oAYQV"
      },
      "id": "smlHc15oAYQV",
      "execution_count": 64,
      "outputs": []
    },
    {
      "cell_type": "code",
      "source": [
        "# Train the model for c:FP1-A2+CZ1-A1\n",
        "#model.fit(X_train, y_train, epochs=10, batch_size=32)\n",
        "\n",
        "#model.fit(Xfc_train, yfc_train, epochs=6, batch_size=32)\n",
        "model.fit(Xfc_train, yfc_train, epochs=5, batch_size=64)\n",
        "\n",
        "# Evaluate the model\n",
        "#loss, accuracy = model.evaluate(X_test, y_test)\n",
        "#loss, accuracy=model.evaluate(Xfc_val)\n",
        "\n",
        "#print('Test Loss:', loss)\n",
        "#print('Test Accuracy:', accuracy)\n",
        "\n",
        "# Make predictions on new data\n",
        "#y_pred = model.predict(X_test)\n",
        "#y_pred = model.predict(Xfc_val)\n",
        "#y_pred=np.ceil(y_pred)\n",
        "#f1 = f1_score(yfc_val, y_pred)\n",
        "#print(\"F1 score: {:.2f}%\".format(f1*100))\n",
        "\n",
        "y_pred=model.predict(Xfc_test)\n",
        "y_pred=np.ceil(y_pred)\n",
        "f1 = f1_score(yfc_test, y_pred)\n",
        "print(\"F1 score: {:.2f}%\".format(f1*100))\n",
        "\n",
        "\n",
        "y_true=yfc_test\n",
        "accuracy = accuracy_score(y_true, y_pred)\n",
        "precision = precision_score(y_true, y_pred)#, average='macro')\n",
        "recall = recall_score(y_true, y_pred)#, average='macro')\n",
        "f1 = f1_score(y_true, y_pred)#, average='macro')\n",
        "\n",
        "# Print the results\n",
        "print(\"Accuracy: {:.2f}%\".format(accuracy*100))\n",
        "print(\"Precision: {:.2f}%\".format(precision*100))\n",
        "print(\"Recall: {:.2f}%\".format(recall*100))\n",
        "print(\"F1 score: {:.2f}%\".format(f1*100))"
      ],
      "metadata": {
        "id": "JOohzWPSBHcY",
        "colab": {
          "base_uri": "https://localhost:8080/"
        },
        "outputId": "ffa2973b-90fb-4370-8d61-2901a3cf7c01"
      },
      "id": "JOohzWPSBHcY",
      "execution_count": 65,
      "outputs": [
        {
          "output_type": "stream",
          "name": "stdout",
          "text": [
            "Epoch 1/5\n",
            "1/1 [==============================] - 17s 17s/step - loss: 0.6939 - accuracy: 0.5833\n",
            "Epoch 2/5\n",
            "1/1 [==============================] - 15s 15s/step - loss: 17.8122 - accuracy: 0.5556\n",
            "Epoch 3/5\n",
            "1/1 [==============================] - 16s 16s/step - loss: 25.1233 - accuracy: 0.5000\n",
            "Epoch 4/5\n",
            "1/1 [==============================] - 16s 16s/step - loss: 0.5719 - accuracy: 0.8889\n",
            "Epoch 5/5\n",
            "1/1 [==============================] - 16s 16s/step - loss: 2.1981 - accuracy: 0.8333\n",
            "1/1 [==============================] - 1s 1s/step\n",
            "F1 score: 82.35%\n",
            "Accuracy: 70.00%\n",
            "Precision: 70.00%\n",
            "Recall: 100.00%\n",
            "F1 score: 82.35%\n"
          ]
        }
      ]
    },
    {
      "cell_type": "code",
      "source": [
        "# Create a sequential model with a 1D convolutional layer\n",
        "model = Sequential()\n",
        "\n",
        "model.add(Conv1D(filters=32, kernel_size=3, activation='relu', input_shape=(signal_length, 1)))\n",
        "model.add(MaxPooling1D(pool_size=2))\n",
        "\n",
        "model.add(Conv1D(filters=32, kernel_size=3, activation='relu'))\n",
        "model.add(MaxPooling1D(pool_size=2))\n",
        "\n",
        "model.add(Conv1D(filters=32, kernel_size=3, activation='relu'))\n",
        "model.add(MaxPooling1D(pool_size=2))\n",
        "\n",
        "model.add(Conv1D(filters=32, kernel_size=3, activation='relu'))\n",
        "model.add(MaxPooling1D(pool_size=2))\n",
        "\n",
        "model.add(Flatten())\n",
        "model.add(Dense(units=32, activation='relu'))\n",
        "model.add(Dropout(0.2))\n",
        "model.add(Dense(units=1, activation='sigmoid'))\n",
        "\n",
        "\n",
        "\n",
        "# Compile the model\n",
        "model.compile(loss='binary_crossentropy', optimizer='adam', metrics=['accuracy'])\n",
        "\n"
      ],
      "metadata": {
        "id": "eSCBiJXUF7rv"
      },
      "id": "eSCBiJXUF7rv",
      "execution_count": 66,
      "outputs": []
    },
    {
      "cell_type": "code",
      "source": [
        "# Train the model for c:FP1-A2+CZ1-A1\n",
        "#model.fit(X_train, y_train, epochs=10, batch_size=32)\n",
        "\n",
        "#model.fit(Xfc_train, yfc_train, epochs=6, batch_size=32)\n",
        "model.fit(Xfc_train, yfc_train, epochs=5, batch_size=64)\n",
        "\n",
        "# Evaluate the model\n",
        "#loss, accuracy = model.evaluate(X_test, y_test)\n",
        "#loss, accuracy=model.evaluate(Xfc_val)\n",
        "\n",
        "#print('Test Loss:', loss)\n",
        "#print('Test Accuracy:', accuracy)\n",
        "\n",
        "# Make predictions on new data\n",
        "#y_pred = model.predict(X_test)\n",
        "#y_pred = model.predict(Xfc_val)\n",
        "#y_pred=np.ceil(y_pred)\n",
        "#f1 = f1_score(yfc_val, y_pred)\n",
        "#print(\"F1 score: {:.2f}%\".format(f1*100))\n",
        "\n",
        "y_pred=model.predict(Xfc_test)\n",
        "y_pred=np.ceil(y_pred)\n",
        "f1 = f1_score(yfc_test, y_pred)\n",
        "print(\"F1 score: {:.2f}%\".format(f1*100))\n",
        "\n",
        "y_true=yfc_test\n",
        "accuracy = accuracy_score(y_true, y_pred)\n",
        "precision = precision_score(y_true, y_pred)#, average='macro')\n",
        "recall = recall_score(y_true, y_pred)#, average='macro')\n",
        "f1 = f1_score(y_true, y_pred)#, average='macro')\n",
        "\n",
        "# Print the results\n",
        "print(\"Accuracy: {:.2f}%\".format(accuracy*100))\n",
        "print(\"Precision: {:.2f}%\".format(precision*100))\n",
        "print(\"Recall: {:.2f}%\".format(recall*100))\n",
        "print(\"F1 score: {:.2f}%\".format(f1*100))"
      ],
      "metadata": {
        "id": "dQ1CBCZ6GDZC",
        "colab": {
          "base_uri": "https://localhost:8080/"
        },
        "outputId": "2983a3c7-3996-4871-8877-ceaa8ce5269b"
      },
      "id": "dQ1CBCZ6GDZC",
      "execution_count": 67,
      "outputs": [
        {
          "output_type": "stream",
          "name": "stdout",
          "text": [
            "Epoch 1/5\n",
            "1/1 [==============================] - 18s 18s/step - loss: 0.7017 - accuracy: 0.3889\n",
            "Epoch 2/5\n",
            "1/1 [==============================] - 17s 17s/step - loss: 11.5861 - accuracy: 0.5278\n",
            "Epoch 3/5\n",
            "1/1 [==============================] - 17s 17s/step - loss: 2.4229 - accuracy: 0.5278\n",
            "Epoch 4/5\n",
            "1/1 [==============================] - 17s 17s/step - loss: 0.5723 - accuracy: 0.8056\n",
            "Epoch 5/5\n",
            "1/1 [==============================] - 17s 17s/step - loss: 0.1876 - accuracy: 0.9167\n",
            "1/1 [==============================] - 2s 2s/step\n",
            "F1 score: 82.35%\n",
            "Accuracy: 70.00%\n",
            "Precision: 70.00%\n",
            "Recall: 100.00%\n",
            "F1 score: 82.35%\n"
          ]
        }
      ]
    },
    {
      "cell_type": "code",
      "source": [
        "# Create a sequential model with a 1D convolutional layer\n",
        "model = Sequential()\n",
        "\n",
        "model.add(Conv1D(filters=32, kernel_size=3, activation='relu', input_shape=(signal_length, 1)))\n",
        "model.add(MaxPooling1D(pool_size=2))\n",
        "\n",
        "model.add(Flatten())\n",
        "model.add(Dense(units=32, activation='relu'))\n",
        "model.add(Dropout(0.2))\n",
        "model.add(Dense(units=1, activation='sigmoid'))\n",
        "\n",
        "\n",
        "\n",
        "# Compile the model\n",
        "model.compile(loss='binary_crossentropy', optimizer='adam', metrics=['accuracy'])"
      ],
      "metadata": {
        "id": "qUPvV8OwPyB4"
      },
      "id": "qUPvV8OwPyB4",
      "execution_count": 68,
      "outputs": []
    },
    {
      "cell_type": "code",
      "source": [
        "# Train the model for c:FP1-A2+CZ1-A1\n",
        "#model.fit(X_train, y_train, epochs=10, batch_size=32)\n",
        "\n",
        "#model.fit(Xfc_train, yfc_train, epochs=6, batch_size=32)\n",
        "model.fit(Xfc_train, yfc_train, epochs=5, batch_size=64)\n",
        "\n",
        "# Evaluate the model\n",
        "#loss, accuracy = model.evaluate(X_test, y_test)\n",
        "#loss, accuracy=model.evaluate(Xfc_val)\n",
        "\n",
        "#print('Test Loss:', loss)\n",
        "#print('Test Accuracy:', accuracy)\n",
        "\n",
        "# Make predictions on new data\n",
        "#y_pred = model.predict(X_test)\n",
        "y_pred = model.predict(Xfc_test)\n",
        "y_pred=np.ceil(y_pred)\n",
        "f1 = f1_score(yfc_test, y_pred)\n",
        "\n",
        "print(\"F1 score: {:.2f}%\".format(f1*100))\n",
        "\n",
        "y_pred=model.predict(Xfc_test)\n",
        "y_pred=np.ceil(y_pred)\n",
        "f1 = f1_score(yfc_test, y_pred)\n",
        "print(\"F1 score: {:.2f}%\".format(f1*100))"
      ],
      "metadata": {
        "id": "_1eV2K6gQF1t",
        "colab": {
          "base_uri": "https://localhost:8080/"
        },
        "outputId": "2ba7e9d9-e23b-49a2-8e35-e6fbd618f8e1"
      },
      "id": "_1eV2K6gQF1t",
      "execution_count": 69,
      "outputs": [
        {
          "output_type": "stream",
          "name": "stdout",
          "text": [
            "Epoch 1/5\n",
            "1/1 [==============================] - 10s 10s/step - loss: 0.6805 - accuracy: 0.5000\n",
            "Epoch 2/5\n",
            "1/1 [==============================] - 9s 9s/step - loss: 68.1944 - accuracy: 0.6667\n",
            "Epoch 3/5\n",
            "1/1 [==============================] - 8s 8s/step - loss: 312.7945 - accuracy: 0.4722\n",
            "Epoch 4/5\n",
            "1/1 [==============================] - 9s 9s/step - loss: 1.3357 - accuracy: 0.9722\n",
            "Epoch 5/5\n",
            "1/1 [==============================] - 9s 9s/step - loss: 56.6337 - accuracy: 0.7222\n",
            "1/1 [==============================] - 1s 827ms/step\n",
            "F1 score: 82.35%\n",
            "1/1 [==============================] - 1s 698ms/step\n",
            "F1 score: 82.35%\n"
          ]
        }
      ]
    }
  ],
  "metadata": {
    "colab": {
      "machine_shape": "hm",
      "provenance": []
    },
    "gpuClass": "standard",
    "kernelspec": {
      "display_name": "Python 3 (ipykernel)",
      "language": "python",
      "name": "python3"
    },
    "language_info": {
      "codemirror_mode": {
        "name": "ipython",
        "version": 3
      },
      "file_extension": ".py",
      "mimetype": "text/x-python",
      "name": "python",
      "nbconvert_exporter": "python",
      "pygments_lexer": "ipython3",
      "version": "3.9.13"
    }
  },
  "nbformat": 4,
  "nbformat_minor": 5
}